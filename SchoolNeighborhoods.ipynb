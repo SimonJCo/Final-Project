{
 "cells": [
  {
   "cell_type": "code",
   "execution_count": 19,
   "metadata": {},
   "outputs": [
    {
     "name": "stdout",
     "output_type": "stream",
     "text": [
      "           neighborhood  enrolled_students\n",
      "14              Carrick               1276\n",
      "12            Brookline               1169\n",
      "6             Beechview                794\n",
      "67             Sheraden                694\n",
      "74  Squirrel Hill South                679\n",
      "..                  ...                ...\n",
      "65          Saint Clair                 25\n",
      "64            Ridgemont                 20\n",
      "33      Golden Triangle                 18\n",
      "17      Central Oakland                 16\n",
      "54        North Oakland                 11\n",
      "\n",
      "[87 rows x 2 columns]\n"
     ]
    }
   ],
   "source": [
    "\n",
    "\n",
    "import pandas as pd\n",
    "import numpy as np\n",
    "\n",
    "enrollment = pd.read_csv(\"Enrollment.csv\")\n",
    "\n",
    "\n",
    "sum_of_enrollment_by_neighborhood = enrollment.groupby('neighborhood')['enrolled_students'].sum()\n",
    "\n",
    "\n",
    "sum_of_enrollment_by_neighborhood_df = sum_of_enrollment_by_neighborhood.reset_index()\n",
    "sorted_sum_of_enrollment = sum_of_enrollment_by_neighborhood_df.sort_values(by='enrolled_students', ascending=False)\n",
    "\n",
    "\n",
    "print(sorted_sum_of_enrollment)\n",
    "\n"
   ]
  },
  {
   "cell_type": "markdown",
   "metadata": {},
   "source": [
    "**School Enrollment**\n",
    "\n",
    "Dependent on the wants of the consumer, different sizes of the schools populations may appeal to different consumers, but if the consumer were to want the neighborhood based on the the highest enrollment the top five neighbohoods would be Carrick, Brookline, Beechview, Sheraden, and Squirell Hill South. "
   ]
  },
  {
   "cell_type": "code",
   "execution_count": 33,
   "metadata": {},
   "outputs": [
    {
     "name": "stdout",
     "output_type": "stream",
     "text": [
      "                                        neighborhoods  gifted_and_iep\n",
      "8                                             Carrick             325\n",
      "7                                           Brookline             322\n",
      "41  Squirrel Hill South, Regent Square, Swisshelm ...             311\n",
      "23                        Homewood North, South, West             301\n",
      "22                                      Hill District             298\n",
      "29  Mt. Oliver Borough, Mt. Oliver, Arlington, Arl...             237\n",
      "15                    East Hills, Wilkinsburg Borough             224\n",
      "20                              Hazelwood, Glen Hazel             215\n",
      "24                                 Knoxville, Bon Air             211\n",
      "3                                           Beechview             210\n",
      "36                                           Sheraden             208\n",
      "16                              East Liberty, Larimer             205\n",
      "39        Spring Hill, Summer Hill, Northview Heights             184\n",
      "6                                    Brighton Heights             169\n",
      "1                              Allentown, Beltzhoover             163\n",
      "13                 Duquesne Heights, Mount Washington             152\n",
      "32                              Perry South, Fineview             151\n",
      "18                                         Greenfield             144\n",
      "17                                           Garfield             135\n",
      "33                                       Point Breeze             129\n",
      "40                                Squirrel Hill North             128\n",
      "21                                      Highland Park             128\n",
      "25                           Lincoln-Lemington-Belmar             124\n",
      "27                                 Marshall-Shadeland             119\n",
      "12                                    Crafton Heights             110\n",
      "0   Allegheny Center, Allegheny West, California K...             101\n",
      "31                                        Perry North              99\n",
      "2   Banksville, Ridgemont, Oakwood, East Carnegie,...              94\n",
      "4                              Bloomfield, Friendship              93\n",
      "19                 Hays, Lincoln Place, New Homestead              88\n",
      "43                                  West End, Elliott              82\n",
      "10                       Central, Upper Lawrenceville              81\n",
      "11         Chartiers City, Esplen, Fairywood, Windgap              78\n",
      "42                                    Stanton Heights              77\n",
      "14           East Allegheny, Spring Garden, Troy Hill              73\n",
      "30                                          Overbrook              72\n",
      "38                                  South Side Slopes              61\n",
      "5          Bluff, Central, North, South, West Oakland              47\n",
      "35                                          Shadyside              46\n",
      "28                                        Morningside              44\n",
      "34                                 Point Breeze North              42\n",
      "37                                   South Side Flats              39\n",
      "9                                   Central Northside              39\n",
      "26   Lower Lawrenceville, Polish Hill, Strip District              33\n"
     ]
    }
   ],
   "source": [
    "import pandas as pd\n",
    "import numpy as np\n",
    "\n",
    "iep = pd.read_csv(\"IEP.csv\")\n",
    "\n",
    "\n",
    "iep['gifted_and_iep'] = iep['gifted'] + iep['other_iep']\n",
    "sum_of_iep = iep.groupby('neighborhoods')['gifted_and_iep'].sum()\n",
    "\n",
    "sum_of_iep_by_neighborhood = sum_of_iep.reset_index()\n",
    "sorted_sum_of_iep = sum_of_iep_by_neighborhood.sort_values(by='gifted_and_iep', ascending=False)\n",
    "\n",
    "\n",
    "print(sorted_sum_of_iep)\n",
    "\n",
    "\n"
   ]
  },
  {
   "cell_type": "markdown",
   "metadata": {},
   "source": [
    "**IEP Population**\n",
    "\n",
    "This is also highly dependent on the wants of the parents, but dependednt on wheather the children may have a need for an IEP, they would want to be in a scholl with other students that have IEP's so they know that the school is providing a good service already.The top five schools that would fit into this category would be Carrick, Brookline, Squirrel Hill South, Regent Square, Swisshelm"
   ]
  },
  {
   "cell_type": "code",
   "execution_count": 3,
   "metadata": {},
   "outputs": [
    {
     "name": "stdout",
     "output_type": "stream",
     "text": [
      "float64\n",
      "float64\n"
     ]
    }
   ],
   "source": [
    "import pandas as pd\n",
    "import numpy as np\n",
    "import fpsnippets\n",
    "\n",
    "locations = pd.read_csv(\"Schoollocations.csv\")\n",
    "pt= pd.read_csv(\"ZIP_Neigborhood.csv\")\n",
    "\n",
    "\n",
    "neighborhood=fpsnippets.geo_to_neighborhood(locations['latitude'], locations['longitude'])\n",
    "\n",
    "\n",
    "print(neighborhood)\n",
    "\n",
    "\n",
    "\n",
    "\n"
   ]
  },
  {
   "cell_type": "code",
   "execution_count": null,
   "metadata": {},
   "outputs": [],
   "source": []
  }
 ],
 "metadata": {
  "kernelspec": {
   "display_name": "Python 3",
   "language": "python",
   "name": "python3"
  },
  "language_info": {
   "codemirror_mode": {
    "name": "ipython",
    "version": 3
   },
   "file_extension": ".py",
   "mimetype": "text/x-python",
   "name": "python",
   "nbconvert_exporter": "python",
   "pygments_lexer": "ipython3",
   "version": "3.8.3"
  }
 },
 "nbformat": 4,
 "nbformat_minor": 4
}
