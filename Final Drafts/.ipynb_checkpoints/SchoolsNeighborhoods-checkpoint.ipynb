{
 "cells": [
  {
   "cell_type": "markdown",
   "metadata": {},
   "source": [
    "# Introduction\n",
    "\n",
    "**Three different csv files were used to find different metrics relating to schools. Some of these metrics are more dependent on the thoughts of the consumer, but I thought education would be a good metric either way being that many people prioritize education. Each metric ranks the neighborhoods in descending order from best to worst, but only one dataset and metric that I used was contributed into the final metric.**\n",
    "\n"
   ]
  },
  {
   "cell_type": "code",
   "execution_count": 7,
   "metadata": {},
   "outputs": [
    {
     "name": "stdout",
     "output_type": "stream",
     "text": [
      "           neighborhood  enrolled_students\n",
      "14              Carrick               1276\n",
      "12            Brookline               1169\n",
      "6             Beechview                794\n",
      "67             Sheraden                694\n",
      "74  Squirrel Hill South                679\n",
      "..                  ...                ...\n",
      "65          Saint Clair                 25\n",
      "64            Ridgemont                 20\n",
      "33      Golden Triangle                 18\n",
      "17      Central Oakland                 16\n",
      "54        North Oakland                 11\n",
      "\n",
      "[87 rows x 2 columns]\n"
     ]
    }
   ],
   "source": [
    "import pandas as pd\n",
    "import numpy as np\n",
    "\n",
    "enrollment = pd.read_csv(\"Enrollment-Copy1.csv\")\n",
    "\n",
    "\n",
    "sum_of_enrollment_by_neighborhood = enrollment.groupby('neighborhood')['enrolled_students'].sum()\n",
    "\n",
    "\n",
    "sum_of_enrollment_by_neighborhood_df = sum_of_enrollment_by_neighborhood.reset_index()\n",
    "sorted_sum_of_enrollment = sum_of_enrollment_by_neighborhood_df.sort_values(by='enrolled_students', ascending=False)\n",
    "\n",
    "\n",
    "print(sorted_sum_of_enrollment)"
   ]
  },
  {
   "cell_type": "markdown",
   "metadata": {},
   "source": [
    "## School Enrollment\n",
    "\n",
    "**Dependent on the wants of the consumer, different sizes of the schools populations may appeal to different consumers, but if the consumer were to want the neighborhood based on the the highest enrollment the top five neighbohoods would be Carrick, Brookline, Beechview, Sheraden, and Squirell Hill South.**"
   ]
  },
  {
   "cell_type": "code",
   "execution_count": 3,
   "metadata": {},
   "outputs": [
    {
     "name": "stdout",
     "output_type": "stream",
     "text": [
      "{'Point Breeze': 42.15686274509804, 'Squirrel Hill South, Regent Square, Swisshelm Park': 41.41145139813582, 'Squirrel Hill North': 39.02439024390244, 'South Side Flats': 35.77981651376147, 'Central, Upper Lawrenceville': 34.46808510638298, 'South Side Slopes': 34.463276836158194, 'Hazelwood, Glen Hazel': 33.85826771653544, 'West End, Elliott': 33.60655737704918, 'Highland Park': 33.50785340314136, 'Sheraden': 32.70440251572327, 'Point Breeze North': 32.55813953488372, 'Chartiers City, Esplen, Fairywood, Windgap': 32.5, 'Knoxville, Bon Air': 32.26299694189603, 'Bloomfield, Friendship': 31.958762886597935, 'Duquesne Heights, Mount Washington': 31.211498973305957, 'Mt. Oliver Borough, Mt. Oliver, Arlington, Arlington Heights, St. Clair': 30.899608865710558, 'Allentown, Beltzhoover': 30.812854442344044, 'Greenfield': 30.573248407643312, 'Perry South, Fineview': 30.26052104208417, 'Brighton Heights': 29.858657243816257, 'Central Northside': 29.1044776119403, 'Brookline': 28.9568345323741, 'East Liberty, Larimer': 28.954802259887007, 'Allegheny Center, Allegheny West, California Kirkbride, Chateau, Manchester': 28.774928774928775, 'Beechview': 28.000000000000004, 'Perry North': 27.808988764044944, 'Garfield': 27.720739219712527, 'Homewood North, South, West': 27.614678899082566, 'Marshall-Shadeland': 27.293577981651374, 'Overbrook': 27.27272727272727, 'East Hills, Wilkinsburg Borough': 27.08585247883918, 'East Allegheny, Spring Garden, Troy Hill': 26.838235294117645, 'Carrick': 26.815181518151814, 'Morningside': 26.666666666666668, 'Hill District': 26.23239436619718, 'Lincoln-Lemington-Belmar': 25.833333333333336, 'Hays, Lincoln Place, New Homestead': 25.65597667638484, 'Stanton Heights': 25.0814332247557, 'Lower Lawrenceville, Polish Hill, Strip District': 24.444444444444443, 'Spring Hill, Summer Hill, Northview Heights': 23.803363518758086, 'Bluff, Central, North, South, West Oakland': 23.618090452261306, 'Shadyside': 23.0, 'Crafton Heights': 21.868787276341948, 'Banksville, Ridgemont, Oakwood, East Carnegie, Westwood': 17.735849056603772}\n",
      "Stored 'sorted_iep' (DataFrame)\n"
     ]
    }
   ],
   "source": [
    "\n",
    "\n",
    "\n",
    "\n",
    "\n",
    "\n",
    "import pandas as pd\n",
    "import numpy as np\n",
    "\n",
    "iep = pd.read_csv(\"iep-Copy1.csv\")\n",
    "\n",
    "iep['gifted_and_iep'] = iep['gifted'] + iep['other_iep']\n",
    "iep['percent_of_gifted_and_iep'] = (iep['gifted_and_iep'] / iep['total_enrollment_k_12']) * 100\n",
    "sorted_iep = iep.sort_values(by='percent_of_gifted_and_iep', ascending=False)\n",
    "\n",
    "\n",
    "\n",
    "neighborhoods_percentages_dict = dict(zip(sorted_iep['neighborhoods'], sorted_iep['percent_of_gifted_and_iep']))\n",
    "\n",
    "\n",
    "print(neighborhoods_percentages_dict)\n",
    "\n",
    "%store 'sorted_iep'\n",
    "\n",
    "\n",
    "\n",
    "\n",
    "\n"
   ]
  },
  {
   "cell_type": "markdown",
   "metadata": {},
   "source": [
    "## IEP Population Percentage\n",
    "\n",
    "**This is also highly dependent on the wants of the parents and whether the children may have a need for an IEP. If a student has an IEP they would want to be in a school with other students that have IEP's so they know that the school is providing a good service already.The top five schools that would fit into this category would be Carrick, Brookline, Squirrel Hill South, Regent Square, Swisshelm. This metric was used in the final metric decision process due to it being weighed out of 100.** \n",
    "\n",
    "### Code and Dataset Explanation\n",
    "\n",
    "**To find the IEP percent population in each neighborhood I used a database that had the schools, neighborhoods and the IEP student enrollment and full student enrollment, so I found the percentage by dividing the IEP student population by the entire school population and then found the school and the neighborhood it correlated to (This was all found using Pandas).** \n",
    "\n",
    "### Metric Explanation\n",
    "\n",
    "**Since the weight of our final metric was determined using percentages out of 100, I used these percentages to accurately grade schools on their inclusivity with regard to Individualized Education Programs (IEP).**"
   ]
  },
  {
   "cell_type": "code",
   "execution_count": 2,
   "metadata": {},
   "outputs": [
    {
     "name": "stdout",
     "output_type": "stream",
     "text": [
      "                                  school  percent_of_feeder_students\n",
      "12                 PITTSBURGH COLFAX K-8                   86.555891\n",
      "18          PITTSBURGH GREENFIELD PreK-8                   85.514019\n",
      "51                        Wilkinsburg SD                   82.000000\n",
      "6            PITTSBURGH BEECHWOOD PreK-5                   77.490775\n",
      "13                PITTSBURGH CONCORD K-5                   76.549865\n",
      "17          PITTSBURGH GREENFIELD PreK-8                   75.590551\n",
      "0      PITTSBURGH ALLDERDICE HIGH SCHOOL                   75.568182\n",
      "11                 PITTSBURGH COLFAX K-8                   74.489796\n",
      "52                        Wilkinsburg SD                   74.111675\n",
      "49               PITTSBURGH WHITTIER K-5                   73.953488\n",
      "9            PITTSBURGH BROOKLINE PreK-8                   73.775216\n",
      "26             PITTSBURGH MIFFLIN PreK-8                   72.519084\n",
      "35               PITTSBURGH PHILLIPS K-5                   71.621622\n",
      "37               PITTSBURGH SCHILLER 6-8                   71.428571\n",
      "5              PITTSBURGH BANKSVILLE K-5                   70.886076\n",
      "7        PITTSBURGH BRASHEAR HIGH SCHOOL                   70.588235\n",
      "27             PITTSBURGH MIFFLIN PreK-8                   67.592593\n",
      "36           PITTSBURGH ROOSEVELT PreK-5                   65.538462\n",
      "8            PITTSBURGH BROOKLINE PreK-8                   64.795918\n",
      "14                 PITTSBURGH FAISON K-5                   62.622036\n",
      "38            PITTSBURGH SOUTH BROOK 6-8                   61.132812\n",
      "40            PITTSBURGH SPRING HILL K-5                   56.852792\n",
      "10        PITTSBURGH CARRICK HIGH SCHOOL                   56.476684\n",
      "28              PITTSBURGH MILLER PreK-5                   56.446991\n",
      "45        PITTSBURGH WEST LIBERTY PreK-5                   55.555556\n",
      "16           PITTSBURGH GRANDVIEW PreK-5                   53.116531\n",
      "22                PITTSBURGH LANGLEY K-8                   53.103448\n",
      "33              PITTSBURGH MORROW PreK-8                   53.000000\n",
      "31             PITTSBURGH MINADEO PreK-5                   51.798561\n",
      "25          PITTSBURGH MANCHESTER PreK-8                   51.111111\n",
      "21                PITTSBURGH LANGLEY K-8                   51.044776\n",
      "48               PITTSBURGH WESTWOOD K-5                   50.149254\n",
      "39            PITTSBURGH SOUTH HILLS 6-8                   49.664430\n",
      "32              PITTSBURGH MORROW PreK-8                   49.371069\n",
      "41               PITTSBURGH STERRETT 6-8                   45.495495\n",
      "23             PITTSBURGH LINCOLN PreK-5                   44.702842\n",
      "2            PITTSBURGH ARLINGTON PreK-8                   44.552529\n",
      "15              PITTSBURGH FULTON PreK-5                   43.911439\n",
      "42           PITTSBURGH SUNNYSIDE PreK-8                   42.857143\n",
      "24          PITTSBURGH MANCHESTER PreK-8                   42.465753\n",
      "44                PITTSBURGH WEIL PreK-5                   42.271293\n",
      "43           PITTSBURGH SUNNYSIDE PreK-8                   41.791045\n",
      "4              PITTSBURGH ARSENAL PreK-5                   41.509434\n",
      "3                 PITTSBURGH ARSENAL 6-8                   41.463415\n",
      "47  PITTSBURGH WESTINGHOUSE ACADEMY 6-12                   41.432584\n",
      "50           PITTSBURGH WOOLSLAIR PreK-5                   39.712919\n",
      "1            PITTSBURGH ARLINGTON PreK-8                   37.500000\n",
      "34          PITTSBURGH PERRY HIGH SCHOOL                   37.390351\n",
      "20                PITTSBURGH KING PreK-8                   37.037037\n",
      "19                PITTSBURGH KING PreK-8                   33.442623\n",
      "29             PITTSBURGH MILLIONES 6-12                   32.950192\n",
      "30             PITTSBURGH MILLIONES 6-12                   27.541371\n",
      "46  PITTSBURGH WESTINGHOUSE ACADEMY 6-12                   27.228525\n"
     ]
    }
   ],
   "source": [
    "import pandas as pd\n",
    "import numpy as np\n",
    "\n",
    "\n",
    "feeder = pd.read_csv(\"feeder_enrollment-Copy1.csv\")\n",
    "\n",
    "feeder['percent_of_feeder_students'] = (feeder['attending_feeder'] / feeder['total_with_feeder_status']) * 100\n",
    "sorted_feeder = feeder.sort_values(by='percent_of_feeder_students', ascending=False)\n",
    "\n",
    "\n",
    "\n",
    "print(sorted_feeder[['school', 'percent_of_feeder_students']])\n",
    "\n",
    "\n",
    "\n",
    "\n",
    "\n",
    "\n",
    "\n"
   ]
  },
  {
   "cell_type": "markdown",
   "metadata": {},
   "source": [
    "## Top 5 schools with the highest feeder population percentage\n",
    "\n",
    "**Above are the highschools with the most feeder students and schools with more feeder students are usually considered better. One reason being, that many kids aren't moving away from this school. Now while there are plenty of other reasons why their may be a large feeder population, in this example we are only looking at what the numbers tell us and not taking into account any outside reasoning. The correspoding neighborhoods had to be found manually(Google) due to a lack of columns that determined the neighborhood in which the school is located.**\n",
    "\n",
    "**1.)Squirrel Hill South**\n",
    "\n",
    "**2.)Greenfield**\n",
    "\n",
    "**3.)Wilkensburg**\n",
    "\n",
    "**4.)Beechwood**\n",
    "\n",
    "**5.)Concord**"
   ]
  },
  {
   "cell_type": "markdown",
   "metadata": {},
   "source": [
    "# Conclusion\n",
    "\n",
    "**When determining which neighborhood is the best for education their was only one neighborhood that appeared in the top 5 list for every metric tested, and that was Squirrel Hill South. In second was two neighborhoods that were listed in the metrics top 5's twice and those were Beechwood and Carrick.**"
   ]
  },
  {
   "cell_type": "code",
   "execution_count": null,
   "metadata": {},
   "outputs": [],
   "source": []
  }
 ],
 "metadata": {
  "kernelspec": {
   "display_name": "Python 3",
   "language": "python",
   "name": "python3"
  },
  "language_info": {
   "codemirror_mode": {
    "name": "ipython",
    "version": 3
   },
   "file_extension": ".py",
   "mimetype": "text/x-python",
   "name": "python",
   "nbconvert_exporter": "python",
   "pygments_lexer": "ipython3",
   "version": "3.8.3"
  }
 },
 "nbformat": 4,
 "nbformat_minor": 4
}
