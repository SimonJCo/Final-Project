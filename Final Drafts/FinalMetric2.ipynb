{
 "cells": [
  {
   "cell_type": "markdown",
   "metadata": {},
   "source": [
    "# The Best Neighborhood in Pittsburgh"
   ]
  },
  {
   "cell_type": "markdown",
   "metadata": {},
   "source": [
    "### Introduction\n",
    "\n",
    "In this project, our group, [group_name], created a metric to find the \"best\" neighborhood in Pittsburgh. Using databases that measure toxic water releases, [Jacob_data], baseball field listings and 2020 census data, we each made our own submetrics that find the best neighborhood in that particular regard. In this presentation, we'll go over each individual submetric, and explain how these metrics were combined for the final metric"
   ]
  },
  {
   "cell_type": "markdown",
   "metadata": {},
   "source": [
    "### The Metric\n",
    "\n",
    "Combining these submetrics we just explained, we can find the best neighborhood using a weighted average of the form:\n",
    "\n",
    "rating = w1*(water_rating) + w2*([school_rating]) + w3*(baseball_rating)\n",
    "\n",
    "We decided that the most important metric was toxic water releases, followed by education, followed by baseball fields. As such, w1 = .5, w2 = .3, w3 = .2, resulting in the final formula:\n",
    "\n",
    "rating = .5*(water_rating) + .3*([school_rating]) + .2*(baseball_rating)"
   ]
  },
  {
   "cell_type": "markdown",
   "metadata": {},
   "source": [
    "### The Results"
   ]
  },
  {
   "cell_type": "code",
   "execution_count": 2,
   "metadata": {},
   "outputs": [
    {
     "name": "stdout",
     "output_type": "stream",
     "text": [
      "no stored variable or alias water_rating\n",
      "{'Allegheny Center': 20.53388241958021, 'Allegheny West': 0, 'Allentown': 3.2123375230398823, 'Arlington - Arlington Heights (Combined)': 0, 'Banksville': 0, 'Bedford Dwellings': 32.31046304153002, 'Beechview': 4.832206893617428, 'Beltzhoover': 29.669058225069367, 'Bloomfield': 2.5478058580974112, 'Bluff': 0, 'Bon Air': 0, 'Brighton Heights': 14.310426579062026, 'Brookline': 6.279464344045424, 'California-Kirkbride': 0, 'Carrick': 5.077557394438876, 'Central Business District (Downtown)': 0, 'Central Lawrenceville': 10.957001067476648, 'Central Northside': 0, 'Central Oakland': 0, 'Chartiers City': 0, 'Chateau': 0, 'Crafton Heights': 9.70753088357642, 'Crawford-Roberts': 0, 'Duquesne Heights': 0, 'East Allegheny': 0, 'East Carnegie': 0, 'East Hills': 7.886547357525113, 'East Liberty': 1.197162961653339, 'Elliott': 18.928035767892954, 'Esplen': 0, 'Fairywood': 0, 'Fineview': 17.493705488698293, 'Friendship': 0, 'Garfield': 11.464254532760169, 'Glen Hazel': 0, 'Greenfield': 7.532068892392922, 'Hays': 0, 'Hazelwood': 16.59984765040147, 'Highland Park': 0, 'Homewood North': 0, 'Homewood South': 18.10671661453242, 'Homewood West': 0, 'Knoxville': 0, 'Larimer': 6.183849246644928, 'Lincoln Place': 4.522947348889797, 'Lincoln-Lemington-Belmar': 7.885162978346143, 'Lower Lawrenceville': 17.797279399600793, 'Manchester': 16.678679332759735, 'Marshall-Shadeland': 8.431648215892508, 'Middle Hill': 0, 'Morningside': 29.128222731466003, 'Mount Washington': 9.497061153467513, 'Mt. Oliver': 0, 'New Homestead': 13.02250583224904, 'North Oakland': 0, 'North Shore': 0, 'Northview Heights': 0, 'Oakwood': 7.2508645147020685, 'Overbrook': 2.1256359817884722, 'Perry North': 0, 'Perry South': 10.675947009656706, 'Point Breeze': 0, 'Point Breeze North': 0, 'Polish Hill': 39.541207912164396, 'Regent Square': 0, 'Ridgemont': 0, 'Shadyside': 3.2063666354505886, 'Sheraden': 9.276935904708157, 'South Oakland': 2.965540836015752, 'South Shore': 0, 'South Side Flats': 0, 'South Side Slopes': 0, 'Spring Garden': 12.57269896718893, 'Spring Hill-City': 0, 'Squirrel Hill North': 0.6229626051496179, 'Squirrel Hill South': 5.771925250323102, 'St. Clair': 0, 'Stanton Heights': 6.777952253110913, 'Strip District': 0, 'Summer Hill': 0, 'Swisshelm Park': 0, 'Terrace Village': 17.265910861954374, 'Troy Hill': 19.891112035359395, 'Upper Hill': 0, 'Upper Lawrenceville': 4.477170544038546, 'West End': 68.73785307587785, 'West Oakland': 0, 'Westwood': 11.602347659872532, 'Windgap': 39.40104170012149}\n"
     ]
    }
   ],
   "source": [
    "# Write code here that graphs best neighborhoods\n",
    "import pandas as pd\n",
    "import numpy as np\n",
    "hoods = pd.read_csv(\"neighborhoods.csv\")\n",
    "%matplotlib inline\n",
    "import matplotlib.pyplot as plt\n",
    "\n",
    "# Put your stored variables here\n",
    "%store -r scores\n",
    "%store -r bestRate\n",
    "%store -r water_rating\n",
    "%store -r neighborhoods_percentages_dict\n",
    "\n",
    "# Formatting Baseball Data\n",
    "bases = [None] * len(scores)\n",
    "for i in range(len(scores)):\n",
    "    bases[i] = (scores[i][0], scores[i][1]/bestRate*100)\n",
    "    \n",
    "finalBases = {}\n",
    "for i in range(len(bases)):\n",
    "    finalBases[bases[i][0]] = bases[i][1]\n",
    "    \n",
    "#print(finalBases)\n",
    "# End Format\n",
    "\n",
    "finalScores = {}\n",
    "\n",
    "for index, row in hoods.iterrows():\n",
    "    waterScore = 0\n",
    "    schoolScore = 0\n",
    "    baseScore = 0\n",
    "    \n",
    "    # Boilerplate code for setting the score variable\n",
    "    if row['Neighborhood'] not in finalBases:\n",
    "        #print(row['Neighborhood'])\n",
    "        baseScore = 0\n",
    "    else:\n",
    "        baseScore = finalBases[row['Neighborhood']]\n",
    "    \n",
    "    finalScores[row['Neighborhood']] = baseScore # Not the formula, just a placeholder\n",
    "\n",
    "# Last thing to do is change this to a list so that it can be sorted\n",
    "print(finalScores)"
   ]
  },
  {
   "cell_type": "code",
   "execution_count": null,
   "metadata": {},
   "outputs": [],
   "source": []
  }
 ],
 "metadata": {
  "kernelspec": {
   "display_name": "Python 3",
   "language": "python",
   "name": "python3"
  },
  "language_info": {
   "codemirror_mode": {
    "name": "ipython",
    "version": 3
   },
   "file_extension": ".py",
   "mimetype": "text/x-python",
   "name": "python",
   "nbconvert_exporter": "python",
   "pygments_lexer": "ipython3",
   "version": "3.8.3"
  }
 },
 "nbformat": 4,
 "nbformat_minor": 4
}
