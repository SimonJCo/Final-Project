{
 "cells": [
  {
   "cell_type": "markdown",
   "metadata": {},
   "source": [
    "# Toxic Chemical Releases in Bodies of Water"
   ]
  },
  {
   "cell_type": "markdown",
   "metadata": {},
   "source": [
    "The best neighborhood in Pittsburgh is determined by the neighborhood with the least amount of toxic releases into the rivers and streams of Pittsburgh. "
   ]
  },
  {
   "cell_type": "markdown",
   "metadata": {},
   "source": [
    "### What makes it the \"best\" neighborhood?"
   ]
  },
  {
   "cell_type": "markdown",
   "metadata": {},
   "source": [
    "The best neighborhood is determined by the least amount of individual chemical releases. When calculating the total pounds released by each neighborhood, which is also an important factor in determining the best neighborhood, the majority had zero reported pounds of release. This made me decide to drop the pounds released data as it would be unfair to use for the neughborhoods that did have reported data for this.\n",
    "\n",
    "Now that the criteria is determined, we can look at the math behind determining the rating for each of the neighborhoods based on least water releases. The release percentage is determined by finding the \n",
    "\n",
    "release_percentage = (1 - (water_ratings[val]/total_water_releases)) * .9\n",
    "\n",
    "percentage_rating = 100 * release_percentage\n",
    "\n",
    "water_ratings[val] = percentage_rating"
   ]
  },
  {
   "cell_type": "code",
   "execution_count": 1,
   "metadata": {},
   "outputs": [],
   "source": [
    "import pandas as pd\n",
    "import numpy as np\n",
    "\n",
    "#Creates a pandas file for program access\n",
    "waterReleases = pd.read_csv(\"WaterReleases.csv\", index_col=\"_id\")"
   ]
  },
  {
   "cell_type": "code",
   "execution_count": 2,
   "metadata": {},
   "outputs": [
    {
     "name": "stdout",
     "output_type": "stream",
     "text": [
      "These are the cities with the least toxic water emmissions in Allegheny county\n"
     ]
    },
    {
     "data": {
      "text/plain": [
       "MONONGAHELA         1\n",
       "SOUTH PARK          2\n",
       "TARENTUM            3\n",
       "NEVILLE ISLAND      5\n",
       "SHARPSBURG          6\n",
       "DRAVOSBURG          7\n",
       "BLAWNOX            10\n",
       "CLINTON            12\n",
       "LIBERTY BOROUGH    19\n",
       "RANKIN             20\n",
       "Name: CITY_NAME, dtype: int64"
      ]
     },
     "execution_count": 2,
     "metadata": {},
     "output_type": "execute_result"
    }
   ],
   "source": [
    "#This sorts all of the Cities by total reported toxic releases in ascending order\n",
    "leastReleaseCities = waterReleases['CITY_NAME'].value_counts().sort_values(ascending=True)\n",
    "\n",
    "print(\"These are the cities with the least toxic water emmissions in Allegheny county\")\n",
    "#Prints the top 10 cities with the least emmissions\n",
    "leastReleaseCities.head(10)"
   ]
  },
  {
   "cell_type": "code",
   "execution_count": 3,
   "metadata": {},
   "outputs": [
    {
     "name": "stdout",
     "output_type": "stream",
     "text": [
      "{'MONONGAHELA': 1, 'SOUTH PARK': 2, 'TARENTUM': 3, 'NEVILLE ISLAND': 5, 'SHARPSBURG': 6, 'DRAVOSBURG': 7, 'BLAWNOX': 10, 'CLINTON': 12, 'LIBERTY BOROUGH': 19, 'RANKIN': 20, 'MCKEESPORT': 36, 'HEIDELBERG': 37, 'EAST PITTSBURGH': 44, 'HOMESTEAD': 48, 'WEST ELIZABETH': 51, 'GLASSPORT': 58, 'DUQUESNE': 60, 'GIBSONIA': 71, 'CHESWICK': 76, 'WILMERDING': 79, 'TURTLE CREEK': 83, 'BAKERSTOWN': 91, 'MC DONALD': 95, 'MONROEVILLE': 112, 'CREIGHTON': 113, 'VERONA': 120, 'BUNOLA': 121, 'OAKDALE': 131, 'MUNHALL': 161, 'MC KEES ROCKS': 166, 'SEWICKLEY': 171, 'NATRONA HEIGHTS': 172, 'GLENSHAW': 183, 'OAKMONT': 185, 'CARNEGIE': 228, 'LEETSDALE': 231, 'HARWICK': 314, 'MC KEESPORT': 329, 'INDIANOLA': 353, 'CORAOPOLIS': 363, 'WEST MIFFLIN': 484, 'BRACKENRIDGE': 541, 'JEFFERSON HILLS': 634, 'BRADDOCK': 703, 'BRIDGEVILLE': 744, 'SPRINGDALE': 1407, 'CLAIRTON': 1872, 'PITTSBURGH': 4981}\n",
      "\n",
      "\n",
      "\n",
      "{'MONONGAHELA': 89.99427953982077, 'SOUTH PARK': 89.98855907964152, 'TARENTUM': 89.98283861946229, 'NEVILLE ISLAND': 89.9713976991038, 'SHARPSBURG': 89.96567723892456, 'DRAVOSBURG': 89.95995677874531, 'BLAWNOX': 89.9427953982076, 'CLINTON': 89.93135447784911, 'LIBERTY BOROUGH': 89.89131125659443, 'RANKIN': 89.88559079641519, 'MCKEESPORT': 89.79406343354732, 'HEIDELBERG': 89.78834297336807, 'EAST PITTSBURGH': 89.7482997521134, 'HOMESTEAD': 89.72541791139643, 'WEST ELIZABETH': 89.7082565308587, 'GLASSPORT': 89.66821330960401, 'DUQUESNE': 89.65677238924555, 'GIBSONIA': 89.59384732727389, 'CHESWICK': 89.56524502637768, 'WILMERDING': 89.54808364583995, 'TURTLE CREEK': 89.52520180512299, 'BAKERSTOWN': 89.47943812368906, 'MC DONALD': 89.4565562829721, 'MONROEVILLE': 89.359308459925, 'CREIGHTON': 89.35358799974577, 'VERONA': 89.31354477849108, 'BUNOLA': 89.30782431831183, 'OAKDALE': 89.25061971651942, 'MUNHALL': 89.07900591114219, 'MC KEES ROCKS': 89.05040361024598, 'SEWICKLEY': 89.02180130934978, 'NATRONA HEIGHTS': 89.01608084917055, 'GLENSHAW': 88.95315578719888, 'OAKMONT': 88.9417148668404, 'CARNEGIE': 88.69573507913304, 'LEETSDALE': 88.67857369859532, 'HARWICK': 88.2037755037183, 'MC KEESPORT': 88.11796860102969, 'INDIANOLA': 87.9806775567279, 'CORAOPOLIS': 87.92347295493549, 'WEST MIFFLIN': 87.2312972732473, 'BRACKENRIDGE': 86.90523104303057, 'JEFFERSON HILLS': 86.37322824636115, 'BRADDOCK': 85.97851649399352, 'BRIDGEVILLE': 85.74397762664464, 'SPRINGDALE': 81.9513125278078, 'CLAIRTON': 79.29129854446069, 'PITTSBURGH': 61.50638784720016}\n",
      "Stored 'water_ratings' (dict)\n"
     ]
    }
   ],
   "source": [
    "#Declare multiple variables\n",
    "total_water_releases = 0\n",
    "town_releases = 0\n",
    "release_percentage = 0\n",
    "percentage_rating = 0\n",
    "total_releases = {}\n",
    "water_ratings = {}\n",
    "\n",
    "#Get the total releases in all neighborhoods\n",
    "for town_releases in leastReleaseCities:\n",
    "    total_water_releases = town_releases + total_water_releases\n",
    "\n",
    "#Creates a dictionary of all of the individual neighborhoods and their respective releases\n",
    "for index, row in waterReleases.iterrows():\n",
    "    \n",
    "    if row['CITY_NAME'] in total_releases:\n",
    "        total_releases[row['CITY_NAME']] += 1\n",
    "    else:\n",
    "        total_releases[row['CITY_NAME']] = 1\n",
    "\n",
    "#Sorts the Dictionary in order of least to most reported releases\n",
    "sorted_total_releases = sorted(total_releases.items(), key=lambda x:x[1])\n",
    "total_releases = dict(sorted_total_releases)\n",
    "\n",
    "print(total_releases)\n",
    "\n",
    "#Creates a new dictionary to calculate and hold the water quality scores\n",
    "water_ratings = total_releases\n",
    "\n",
    "print('\\n\\n')\n",
    "\n",
    "#Calculates the grade for each neighborhood\n",
    "for val in total_releases:\n",
    "    \n",
    "    release_percentage = (1 - (water_ratings[val]/total_water_releases)) * .9\n",
    "    percentage_rating = 100 * release_percentage\n",
    "    water_ratings[val] = percentage_rating\n",
    "    \n",
    "    \n",
    "print(water_ratings)\n",
    "\n",
    "#Store dictionary for access in the final metric folder\n",
    "%store water_ratings"
   ]
  },
  {
   "cell_type": "markdown",
   "metadata": {},
   "source": [
    "## Conclusion\n",
    "​\n",
    "To conclude the research, a lot of neighborhoods release toxic chemicals into the water, which is awful and there is no real \"best\" neighborhood when it is releasing chemicals. However, to actually provide a best, there must be some way that they are ranked. The \"best\" neighborhoods have the highest percentage score and the worst, the lowest. The highest ranked neighborhoods are Monongahela, South Park, and Tarnetum. The lowest ranked are Pittsburgh, Clairton, and Springdale. It makes sense that Pittsburgh has the most toxic releases out of all of the neighborhoods, it is right on a river and there are a lot of businesses there. "
   ]
  },
  {
   "cell_type": "code",
   "execution_count": null,
   "metadata": {},
   "outputs": [],
   "source": []
  }
 ],
 "metadata": {
  "kernelspec": {
   "display_name": "Python 3",
   "language": "python",
   "name": "python3"
  },
  "language_info": {
   "codemirror_mode": {
    "name": "ipython",
    "version": 3
   },
   "file_extension": ".py",
   "mimetype": "text/x-python",
   "name": "python",
   "nbconvert_exporter": "python",
   "pygments_lexer": "ipython3",
   "version": "3.8.3"
  }
 },
 "nbformat": 4,
 "nbformat_minor": 4
}
